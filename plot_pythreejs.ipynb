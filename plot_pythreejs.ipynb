{
 "cells": [
  {
   "cell_type": "code",
   "execution_count": 1,
   "metadata": {},
   "outputs": [],
   "source": [
    "import numpy as np\n",
    "import pythreejs\n",
    "from moon import io as mio\n",
    "\n",
    "lon=-11.36\n",
    "lat=-43.31\n",
    "side=5  # in degrees, sort of (on equirectangular projection :/)\n",
    "\n",
    "range_lon = lon - side / 2, lon + side / 2\n",
    "range_lat = lat - side / 2, lat + side / 2\n",
    "\n",
    "dem_tycho = mio.square_cutout(lon, lat, side)\n",
    "\n",
    "# pythreejs can't handle > 2 MB arrays?\n",
    "n_drop = 1 # 5 # renders proper texture - why?\n",
    "x = np.linspace(*range_lon, dem_tycho.shape[0])[::n_drop]\n",
    "y = np.linspace(*range_lat, dem_tycho.shape[1])[::n_drop]\n",
    "z = mio.get_tycho_cutout()[::n_drop, ::n_drop].astype(np.float32) / 1e4\n",
    "\n",
    "ny, nx = z.shape"
   ]
  },
  {
   "cell_type": "code",
   "execution_count": 2,
   "metadata": {},
   "outputs": [
    {
     "data": {
      "application/vnd.jupyter.widget-view+json": {
       "model_id": "00a244a338384a798f6e758e69de5e28",
       "version_major": 2,
       "version_minor": 0
      },
      "text/plain": [
       "Renderer(camera=PerspectiveCamera(children=(DirectionalLight(color='white', intensity=0.6, position=(3.0, 5.0,…"
      ]
     },
     "metadata": {},
     "output_type": "display_data"
    }
   ],
   "source": [
    "surf_g = pythreejs.SurfaceGeometry(z=list(z.flat), width=x.max()-x.min(), height=y.max()-y.min(),\n",
    "                                   width_segments=nx-1, height_segments=ny-1)\n",
    "\n",
    "surf = pythreejs.Mesh(geometry=surf_g, \n",
    "                      material=pythreejs.MeshLambertMaterial(map=pythreejs.height_texture(z, 'YlGnBu_r')))\n",
    "surfgrid = pythreejs.SurfaceGrid(geometry=surf_g,\n",
    "                                 material=pythreejs.LineBasicMaterial(color='black'))\n",
    "scene = pythreejs.Scene(fog=pythreejs.Fog(near=2,far=5),\n",
    "                        children=[surf, surfgrid,\n",
    "                        pythreejs.AmbientLight(color='#777777')])\n",
    "dlight = pythreejs.DirectionalLight(color='white', position=[3, 5, 1],\n",
    "                                    intensity=0.6)\n",
    "c = pythreejs.PerspectiveCamera(position=[0, 3, 3], up=[0, 0, 1], \n",
    "                                children=[dlight])\n",
    "renderer = pythreejs.Renderer(camera=c, scene=scene,\n",
    "                              width=900, height=600,\n",
    "                              controls=[pythreejs.OrbitControls(controlling=c)])\n",
    "renderer"
   ]
  },
  {
   "cell_type": "markdown",
   "metadata": {},
   "source": [
    "### TODOs:\n",
    "\n",
    "1. Make a PR for broken numpy in SurfaceGeometry update method?\n",
    "2. Fix the annoying non-square restriction - in particular, the texture doesn't work at all? \n",
    "3. Get the resterio geoslicing working and allow switching between crater names"
   ]
  }
 ],
 "metadata": {
  "kernelspec": {
   "display_name": "Python 3",
   "language": "python",
   "name": "python3"
  },
  "language_info": {
   "codemirror_mode": {
    "name": "ipython",
    "version": 3
   },
   "file_extension": ".py",
   "mimetype": "text/x-python",
   "name": "python",
   "nbconvert_exporter": "python",
   "pygments_lexer": "ipython3",
   "version": "3.6.6"
  }
 },
 "nbformat": 4,
 "nbformat_minor": 2
}
