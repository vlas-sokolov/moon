{
 "cells": [
  {
   "cell_type": "code",
   "execution_count": 1,
   "metadata": {},
   "outputs": [],
   "source": [
    "import numpy as np\n",
    "import pythreejs\n",
    "from moon import io as mio\n",
    "\n",
    "range_x = np.array([42400, 43850])\n",
    "range_y = np.array([33500, 34750])\n",
    "shape_large = np.array([46080, 92160])\n",
    "range_lon = (range_x / shape_large[1] * 360 - 180)\n",
    "range_lat = (90 - range_y / shape_large[0] * 180)\n",
    "\n",
    "# FIXME!!!! We need to pass it a square? Come on!\n",
    "def central_square(arr, lats, lons):\n",
    "    \"\"\"Trims an array to a largest central square\"\"\"\n",
    "    \n",
    "    crop = min(arr.shape)\n",
    "    startx = arr.shape[1]//2-(crop//2)\n",
    "    starty = arr.shape[0]//2-(crop//2)\n",
    "    \n",
    "    return (arr[starty:starty+crop, startx:startx+crop],\n",
    "            lats[starty:starty+crop], lons[startx:startx+crop])\n",
    "\n",
    "# pythreejs can't handle > 2 MB arrays?\n",
    "n_drop = 5\n",
    "x = np.linspace(*range_lon, int(np.diff(range_x)))[::n_drop]\n",
    "y = np.linspace(*range_lat, int(np.diff(range_y)))[::n_drop]\n",
    "z = mio.get_tycho_cutout()[::n_drop, ::n_drop].astype(np.float32) / 1e4\n",
    "z, x, y = central_square(z, y, x)\n",
    "\n",
    "ny, nx = z.shape"
   ]
  },
  {
   "cell_type": "code",
   "execution_count": 2,
   "metadata": {
    "scrolled": false
   },
   "outputs": [
    {
     "data": {
      "application/vnd.jupyter.widget-view+json": {
       "model_id": "7ab918db745249ddbb350b4e768ce0fb",
       "version_major": 2,
       "version_minor": 0
      },
      "text/plain": [
       "Renderer(camera=PerspectiveCamera(children=(DirectionalLight(color='white', intensity=0.6, position=(3.0, 5.0,…"
      ]
     },
     "metadata": {},
     "output_type": "display_data"
    }
   ],
   "source": [
    "surf_g = pythreejs.SurfaceGeometry(z=list(z.flat), width=x.max()-x.min(), height=y.max()-y.min(),\n",
    "                                   width_segments=nx-1, height_segments=ny-1)\n",
    "\n",
    "surf = pythreejs.Mesh(geometry=surf_g, \n",
    "                      material=pythreejs.MeshLambertMaterial(map=pythreejs.height_texture(z, 'YlGnBu_r')))\n",
    "surfgrid = pythreejs.SurfaceGrid(geometry=surf_g,\n",
    "                                 material=pythreejs.LineBasicMaterial(color='black'))\n",
    "scene = pythreejs.Scene(fog=pythreejs.Fog(near=2,far=7),\n",
    "                        children=[surf, surfgrid,\n",
    "                        pythreejs.AmbientLight(color='#777777')])\n",
    "dlight = pythreejs.DirectionalLight(color='white', position=[3, 5, 1],\n",
    "                                    intensity=0.6)\n",
    "c = pythreejs.PerspectiveCamera(position=[0, 3, 3], up=[0, 0, 1], \n",
    "                                children=[dlight])\n",
    "renderer = pythreejs.Renderer(camera=c, scene=scene,\n",
    "                              width=900, height=600,\n",
    "                              controls=[pythreejs.OrbitControls(controlling=c)])\n",
    "renderer"
   ]
  },
  {
   "cell_type": "markdown",
   "metadata": {},
   "source": [
    "### TODOs:\n",
    "\n",
    "1. Make a PR for broken numpy in SurfaceGeometry update method?\n",
    "2. Fix the annoying non-square restriction - in particular, the texture doesn't work at all? \n",
    "3. Get the resterio geoslicing working and allow switching between crater names"
   ]
  }
 ],
 "metadata": {
  "kernelspec": {
   "display_name": "Python 3",
   "language": "python",
   "name": "python3"
  },
  "language_info": {
   "codemirror_mode": {
    "name": "ipython",
    "version": 3
   },
   "file_extension": ".py",
   "mimetype": "text/x-python",
   "name": "python",
   "nbconvert_exporter": "python",
   "pygments_lexer": "ipython3",
   "version": "3.6.6"
  }
 },
 "nbformat": 4,
 "nbformat_minor": 2
}
